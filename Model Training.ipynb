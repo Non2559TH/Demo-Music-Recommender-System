{
 "cells": [
  {
   "cell_type": "code",
   "execution_count": 3,
   "id": "d99167d3-fde6-41fa-a3fb-4515f3681930",
   "metadata": {},
   "outputs": [],
   "source": [
    "import pandas as pd\n",
    "import numpy as np"
   ]
  },
  {
   "cell_type": "code",
   "execution_count": 82,
   "id": "0208e6dc-cf1d-4859-8ec5-979e03a63c6e",
   "metadata": {},
   "outputs": [],
   "source": [
    "df =pd.read_csv(\"spotify_millsongdata.csv\")"
   ]
  },
  {
   "cell_type": "code",
   "execution_count": 83,
   "id": "c3b3bc36-7272-44c9-a3c0-44da7928827d",
   "metadata": {},
   "outputs": [
    {
     "data": {
      "text/html": [
       "<div>\n",
       "<style scoped>\n",
       "    .dataframe tbody tr th:only-of-type {\n",
       "        vertical-align: middle;\n",
       "    }\n",
       "\n",
       "    .dataframe tbody tr th {\n",
       "        vertical-align: top;\n",
       "    }\n",
       "\n",
       "    .dataframe thead th {\n",
       "        text-align: right;\n",
       "    }\n",
       "</style>\n",
       "<table border=\"1\" class=\"dataframe\">\n",
       "  <thead>\n",
       "    <tr style=\"text-align: right;\">\n",
       "      <th></th>\n",
       "      <th>artist</th>\n",
       "      <th>song</th>\n",
       "      <th>link</th>\n",
       "      <th>text</th>\n",
       "    </tr>\n",
       "  </thead>\n",
       "  <tbody>\n",
       "    <tr>\n",
       "      <th>0</th>\n",
       "      <td>ABBA</td>\n",
       "      <td>Ahe's My Kind Of Girl</td>\n",
       "      <td>/a/abba/ahes+my+kind+of+girl_20598417.html</td>\n",
       "      <td>Look at her face, it's a wonderful face  \\r\\nA...</td>\n",
       "    </tr>\n",
       "    <tr>\n",
       "      <th>1</th>\n",
       "      <td>ABBA</td>\n",
       "      <td>Andante, Andante</td>\n",
       "      <td>/a/abba/andante+andante_20002708.html</td>\n",
       "      <td>Take it easy with me, please  \\r\\nTouch me gen...</td>\n",
       "    </tr>\n",
       "    <tr>\n",
       "      <th>2</th>\n",
       "      <td>ABBA</td>\n",
       "      <td>As Good As New</td>\n",
       "      <td>/a/abba/as+good+as+new_20003033.html</td>\n",
       "      <td>I'll never know why I had to go  \\r\\nWhy I had...</td>\n",
       "    </tr>\n",
       "    <tr>\n",
       "      <th>3</th>\n",
       "      <td>ABBA</td>\n",
       "      <td>Bang</td>\n",
       "      <td>/a/abba/bang_20598415.html</td>\n",
       "      <td>Making somebody happy is a question of give an...</td>\n",
       "    </tr>\n",
       "    <tr>\n",
       "      <th>4</th>\n",
       "      <td>ABBA</td>\n",
       "      <td>Bang-A-Boomerang</td>\n",
       "      <td>/a/abba/bang+a+boomerang_20002668.html</td>\n",
       "      <td>Making somebody happy is a question of give an...</td>\n",
       "    </tr>\n",
       "  </tbody>\n",
       "</table>\n",
       "</div>"
      ],
      "text/plain": [
       "  artist                   song                                        link  \\\n",
       "0   ABBA  Ahe's My Kind Of Girl  /a/abba/ahes+my+kind+of+girl_20598417.html   \n",
       "1   ABBA       Andante, Andante       /a/abba/andante+andante_20002708.html   \n",
       "2   ABBA         As Good As New        /a/abba/as+good+as+new_20003033.html   \n",
       "3   ABBA                   Bang                  /a/abba/bang_20598415.html   \n",
       "4   ABBA       Bang-A-Boomerang      /a/abba/bang+a+boomerang_20002668.html   \n",
       "\n",
       "                                                text  \n",
       "0  Look at her face, it's a wonderful face  \\r\\nA...  \n",
       "1  Take it easy with me, please  \\r\\nTouch me gen...  \n",
       "2  I'll never know why I had to go  \\r\\nWhy I had...  \n",
       "3  Making somebody happy is a question of give an...  \n",
       "4  Making somebody happy is a question of give an...  "
      ]
     },
     "execution_count": 83,
     "metadata": {},
     "output_type": "execute_result"
    }
   ],
   "source": [
    "df.head(5)"
   ]
  },
  {
   "cell_type": "code",
   "execution_count": 84,
   "id": "416d6902-b3ab-4c67-8a6b-7ec2ee643dd7",
   "metadata": {},
   "outputs": [
    {
     "data": {
      "text/html": [
       "<div>\n",
       "<style scoped>\n",
       "    .dataframe tbody tr th:only-of-type {\n",
       "        vertical-align: middle;\n",
       "    }\n",
       "\n",
       "    .dataframe tbody tr th {\n",
       "        vertical-align: top;\n",
       "    }\n",
       "\n",
       "    .dataframe thead th {\n",
       "        text-align: right;\n",
       "    }\n",
       "</style>\n",
       "<table border=\"1\" class=\"dataframe\">\n",
       "  <thead>\n",
       "    <tr style=\"text-align: right;\">\n",
       "      <th></th>\n",
       "      <th>artist</th>\n",
       "      <th>song</th>\n",
       "      <th>link</th>\n",
       "      <th>text</th>\n",
       "    </tr>\n",
       "  </thead>\n",
       "  <tbody>\n",
       "    <tr>\n",
       "      <th>57645</th>\n",
       "      <td>Ziggy Marley</td>\n",
       "      <td>Good Old Days</td>\n",
       "      <td>/z/ziggy+marley/good+old+days_10198588.html</td>\n",
       "      <td>Irie days come on play  \\r\\nLet the angels fly...</td>\n",
       "    </tr>\n",
       "    <tr>\n",
       "      <th>57646</th>\n",
       "      <td>Ziggy Marley</td>\n",
       "      <td>Hand To Mouth</td>\n",
       "      <td>/z/ziggy+marley/hand+to+mouth_20531167.html</td>\n",
       "      <td>Power to the workers  \\r\\nMore power  \\r\\nPowe...</td>\n",
       "    </tr>\n",
       "    <tr>\n",
       "      <th>57647</th>\n",
       "      <td>Zwan</td>\n",
       "      <td>Come With Me</td>\n",
       "      <td>/z/zwan/come+with+me_20148981.html</td>\n",
       "      <td>all you need  \\r\\nis something i'll believe  \\...</td>\n",
       "    </tr>\n",
       "    <tr>\n",
       "      <th>57648</th>\n",
       "      <td>Zwan</td>\n",
       "      <td>Desire</td>\n",
       "      <td>/z/zwan/desire_20148986.html</td>\n",
       "      <td>northern star  \\r\\nam i frightened  \\r\\nwhere ...</td>\n",
       "    </tr>\n",
       "    <tr>\n",
       "      <th>57649</th>\n",
       "      <td>Zwan</td>\n",
       "      <td>Heartsong</td>\n",
       "      <td>/z/zwan/heartsong_20148991.html</td>\n",
       "      <td>come in  \\r\\nmake yourself at home  \\r\\ni'm a ...</td>\n",
       "    </tr>\n",
       "  </tbody>\n",
       "</table>\n",
       "</div>"
      ],
      "text/plain": [
       "             artist           song  \\\n",
       "57645  Ziggy Marley  Good Old Days   \n",
       "57646  Ziggy Marley  Hand To Mouth   \n",
       "57647          Zwan   Come With Me   \n",
       "57648          Zwan         Desire   \n",
       "57649          Zwan      Heartsong   \n",
       "\n",
       "                                              link  \\\n",
       "57645  /z/ziggy+marley/good+old+days_10198588.html   \n",
       "57646  /z/ziggy+marley/hand+to+mouth_20531167.html   \n",
       "57647           /z/zwan/come+with+me_20148981.html   \n",
       "57648                 /z/zwan/desire_20148986.html   \n",
       "57649              /z/zwan/heartsong_20148991.html   \n",
       "\n",
       "                                                    text  \n",
       "57645  Irie days come on play  \\r\\nLet the angels fly...  \n",
       "57646  Power to the workers  \\r\\nMore power  \\r\\nPowe...  \n",
       "57647  all you need  \\r\\nis something i'll believe  \\...  \n",
       "57648  northern star  \\r\\nam i frightened  \\r\\nwhere ...  \n",
       "57649  come in  \\r\\nmake yourself at home  \\r\\ni'm a ...  "
      ]
     },
     "execution_count": 84,
     "metadata": {},
     "output_type": "execute_result"
    }
   ],
   "source": [
    "df.tail(5)"
   ]
  },
  {
   "cell_type": "code",
   "execution_count": 85,
   "id": "4a63bcfd-7fed-48df-9a21-6e72d50f84ec",
   "metadata": {},
   "outputs": [
    {
     "data": {
      "text/plain": [
       "(57650, 4)"
      ]
     },
     "execution_count": 85,
     "metadata": {},
     "output_type": "execute_result"
    }
   ],
   "source": [
    "df.shape"
   ]
  },
  {
   "cell_type": "code",
   "execution_count": 86,
   "id": "229e4814-f28c-48ce-b0ec-30ed0f4e5998",
   "metadata": {},
   "outputs": [
    {
     "data": {
      "text/plain": [
       "artist    0\n",
       "song      0\n",
       "link      0\n",
       "text      0\n",
       "dtype: int64"
      ]
     },
     "execution_count": 86,
     "metadata": {},
     "output_type": "execute_result"
    }
   ],
   "source": [
    "df.isnull().sum()"
   ]
  },
  {
   "cell_type": "code",
   "execution_count": 87,
   "id": "4005a7e9-4d54-4a73-8ecd-44e96f6dbb07",
   "metadata": {},
   "outputs": [],
   "source": [
    "df = df.sample(5000).drop('link', axis=1).reset_index(drop=True)"
   ]
  },
  {
   "cell_type": "code",
   "execution_count": 88,
   "id": "5b340964-1a2c-494c-8425-c808ceb571af",
   "metadata": {},
   "outputs": [
    {
     "data": {
      "text/html": [
       "<div>\n",
       "<style scoped>\n",
       "    .dataframe tbody tr th:only-of-type {\n",
       "        vertical-align: middle;\n",
       "    }\n",
       "\n",
       "    .dataframe tbody tr th {\n",
       "        vertical-align: top;\n",
       "    }\n",
       "\n",
       "    .dataframe thead th {\n",
       "        text-align: right;\n",
       "    }\n",
       "</style>\n",
       "<table border=\"1\" class=\"dataframe\">\n",
       "  <thead>\n",
       "    <tr style=\"text-align: right;\">\n",
       "      <th></th>\n",
       "      <th>artist</th>\n",
       "      <th>song</th>\n",
       "      <th>text</th>\n",
       "    </tr>\n",
       "  </thead>\n",
       "  <tbody>\n",
       "    <tr>\n",
       "      <th>0</th>\n",
       "      <td>Deep Purple</td>\n",
       "      <td>Blind</td>\n",
       "      <td>I see reflections in the water  \\r\\nAutumn col...</td>\n",
       "    </tr>\n",
       "    <tr>\n",
       "      <th>1</th>\n",
       "      <td>Tina Turner</td>\n",
       "      <td>Great Spirits</td>\n",
       "      <td>When the earth was young  \\r\\nAnd the air was ...</td>\n",
       "    </tr>\n",
       "    <tr>\n",
       "      <th>2</th>\n",
       "      <td>Xentrix</td>\n",
       "      <td>Back In The Real World</td>\n",
       "      <td>You tell us how you'll make it to the top,  \\r...</td>\n",
       "    </tr>\n",
       "    <tr>\n",
       "      <th>3</th>\n",
       "      <td>Gordon Lightfoot</td>\n",
       "      <td>Never Say Trust Me</td>\n",
       "      <td>The sky above is filled with stars the road is...</td>\n",
       "    </tr>\n",
       "    <tr>\n",
       "      <th>4</th>\n",
       "      <td>Marianne Faithfull</td>\n",
       "      <td>Marathon Kiss</td>\n",
       "      <td>I cherished the night of your marathon kiss,  ...</td>\n",
       "    </tr>\n",
       "    <tr>\n",
       "      <th>5</th>\n",
       "      <td>Enigma</td>\n",
       "      <td>Morphing Thru Time</td>\n",
       "      <td>Earth. A biosphere.  \\r\\nA complex,  \\r\\nSubtl...</td>\n",
       "    </tr>\n",
       "    <tr>\n",
       "      <th>6</th>\n",
       "      <td>Billie Holiday</td>\n",
       "      <td>If You Were Mine</td>\n",
       "      <td>If you were mine  \\r\\nI could be a ruler of ki...</td>\n",
       "    </tr>\n",
       "    <tr>\n",
       "      <th>7</th>\n",
       "      <td>Vonda Shepard</td>\n",
       "      <td>I've Been Here Before</td>\n",
       "      <td>I've tried so many times  \\r\\n  \\r\\nTo Keep ro...</td>\n",
       "    </tr>\n",
       "    <tr>\n",
       "      <th>8</th>\n",
       "      <td>Nine Inch Nails</td>\n",
       "      <td>Starfuckers</td>\n",
       "      <td>Starfuckers  \\r\\nStarfuckers  \\r\\nStarfuckers ...</td>\n",
       "    </tr>\n",
       "    <tr>\n",
       "      <th>9</th>\n",
       "      <td>Moody Blues</td>\n",
       "      <td>Meet Me Halfway</td>\n",
       "      <td>Never dreamt I would hope  \\r\\nWhile I count t...</td>\n",
       "    </tr>\n",
       "  </tbody>\n",
       "</table>\n",
       "</div>"
      ],
      "text/plain": [
       "               artist                    song  \\\n",
       "0         Deep Purple                   Blind   \n",
       "1         Tina Turner           Great Spirits   \n",
       "2             Xentrix  Back In The Real World   \n",
       "3    Gordon Lightfoot      Never Say Trust Me   \n",
       "4  Marianne Faithfull           Marathon Kiss   \n",
       "5              Enigma      Morphing Thru Time   \n",
       "6      Billie Holiday        If You Were Mine   \n",
       "7       Vonda Shepard   I've Been Here Before   \n",
       "8     Nine Inch Nails             Starfuckers   \n",
       "9         Moody Blues         Meet Me Halfway   \n",
       "\n",
       "                                                text  \n",
       "0  I see reflections in the water  \\r\\nAutumn col...  \n",
       "1  When the earth was young  \\r\\nAnd the air was ...  \n",
       "2  You tell us how you'll make it to the top,  \\r...  \n",
       "3  The sky above is filled with stars the road is...  \n",
       "4  I cherished the night of your marathon kiss,  ...  \n",
       "5  Earth. A biosphere.  \\r\\nA complex,  \\r\\nSubtl...  \n",
       "6  If you were mine  \\r\\nI could be a ruler of ki...  \n",
       "7  I've tried so many times  \\r\\n  \\r\\nTo Keep ro...  \n",
       "8  Starfuckers  \\r\\nStarfuckers  \\r\\nStarfuckers ...  \n",
       "9  Never dreamt I would hope  \\r\\nWhile I count t...  "
      ]
     },
     "execution_count": 88,
     "metadata": {},
     "output_type": "execute_result"
    }
   ],
   "source": [
    "df.head(10)"
   ]
  },
  {
   "cell_type": "code",
   "execution_count": 89,
   "id": "d9e8f9ca-9ce1-49c4-8fac-1189d40cb42b",
   "metadata": {},
   "outputs": [
    {
     "data": {
      "text/plain": [
       "\"I see reflections in the water  \\r\\nAutumn colours, summer's daughter  \\r\\nAnd as as the year is growing older  \\r\\nI see winter on my shoulder  \\r\\nI stand in the haze  \\r\\nWatching stormy ripples grow on my own  \\r\\nNever knew your needed  \\r\\nTill I found myself standing here alone  \\r\\n  \\r\\nAnd in the water, such a sad face  \\r\\nSlowly drowning, such a sad face  \\r\\nIf only I could change the seasons  \\r\\nLike a poet, I've my reasons  \\r\\nIt started to snow in the middle of July  \\r\\nWonder why  \\r\\nNever did understand you  \\r\\nMy sorrow is hanging in the grey sky  \\r\\n  \\r\\nIn the summer days we flew to the sun  \\r\\nOn melting wings  \\r\\nBut the seasons changed to fast  \\r\\nLeave us all behind  \\r\\nBlind  \\r\\n  \\r\\nBut then the stone fell on the water  \\r\\nPutting end to summer's daughter  \\r\\nAnd me, I turn away remembering  \\r\\nAll the seasons, such a sad thing  \\r\\nIt started to rain in the middle of the sun  \\r\\nWinter's begun  \\r\\n  \\r\\nNever did understand you  \\r\\nMy sorrow is hanging in the grey sky  \\r\\n  \\r\\nIn the summer days we flew to the sun  \\r\\nOn melting wings  \\r\\nBut the seasons changed to fast  \\r\\nLeave us all behind  \\r\\nBlind\\r\\n\\r\\n\""
      ]
     },
     "execution_count": 89,
     "metadata": {},
     "output_type": "execute_result"
    }
   ],
   "source": [
    "df['text'][0]"
   ]
  },
  {
   "cell_type": "code",
   "execution_count": null,
   "id": "91f499c3-4e08-413d-a366-867b62407109",
   "metadata": {},
   "outputs": [],
   "source": []
  },
  {
   "cell_type": "code",
   "execution_count": 90,
   "id": "c4cfede5-2d61-4ed0-b3a9-aa88fce51010",
   "metadata": {},
   "outputs": [
    {
     "data": {
      "text/plain": [
       "(5000, 3)"
      ]
     },
     "execution_count": 90,
     "metadata": {},
     "output_type": "execute_result"
    }
   ],
   "source": [
    "df.shape"
   ]
  },
  {
   "cell_type": "markdown",
   "id": "acf1edd8-be19-4114-bc11-8184972d2cbf",
   "metadata": {},
   "source": [
    "Text Cleaning/ Text Preprocessing"
   ]
  },
  {
   "cell_type": "code",
   "execution_count": 91,
   "id": "483d548f-7492-4ca1-a3c1-ba16f0a103da",
   "metadata": {},
   "outputs": [],
   "source": [
    "df['text'] = df['text'].str.lower().replace(r'^\\w\\s',' ').replace(r'\\n', ' ', regex = True)"
   ]
  },
  {
   "cell_type": "code",
   "execution_count": 92,
   "id": "2c887c0e-0992-45cc-bd57-16931ac97936",
   "metadata": {},
   "outputs": [
    {
     "data": {
      "text/html": [
       "<div>\n",
       "<style scoped>\n",
       "    .dataframe tbody tr th:only-of-type {\n",
       "        vertical-align: middle;\n",
       "    }\n",
       "\n",
       "    .dataframe tbody tr th {\n",
       "        vertical-align: top;\n",
       "    }\n",
       "\n",
       "    .dataframe thead th {\n",
       "        text-align: right;\n",
       "    }\n",
       "</style>\n",
       "<table border=\"1\" class=\"dataframe\">\n",
       "  <thead>\n",
       "    <tr style=\"text-align: right;\">\n",
       "      <th></th>\n",
       "      <th>artist</th>\n",
       "      <th>song</th>\n",
       "      <th>text</th>\n",
       "    </tr>\n",
       "  </thead>\n",
       "  <tbody>\n",
       "    <tr>\n",
       "      <th>4995</th>\n",
       "      <td>Horrible Histories</td>\n",
       "      <td>Evil Roman Emperors (Bad)</td>\n",
       "      <td>lead 1:  \\r the famous roman empire,  \\r   \\r ...</td>\n",
       "    </tr>\n",
       "    <tr>\n",
       "      <th>4996</th>\n",
       "      <td>Kinks</td>\n",
       "      <td>Oklahoma U. S. A.</td>\n",
       "      <td>all life we work but work is bore,  \\r if life...</td>\n",
       "    </tr>\n",
       "    <tr>\n",
       "      <th>4997</th>\n",
       "      <td>Drake</td>\n",
       "      <td>Side Pieces</td>\n",
       "      <td>[drake]  \\r side pieces  \\r i know that you're...</td>\n",
       "    </tr>\n",
       "    <tr>\n",
       "      <th>4998</th>\n",
       "      <td>Nat King Cole</td>\n",
       "      <td>Madrid</td>\n",
       "      <td>madrid, madrid  \\r where is my love  \\r why di...</td>\n",
       "    </tr>\n",
       "    <tr>\n",
       "      <th>4999</th>\n",
       "      <td>Janis Joplin</td>\n",
       "      <td>Kozmic Blues ( In Album Woodstock )</td>\n",
       "      <td>time keeps movin' on,  \\r friends, they turn a...</td>\n",
       "    </tr>\n",
       "  </tbody>\n",
       "</table>\n",
       "</div>"
      ],
      "text/plain": [
       "                  artist                                 song  \\\n",
       "4995  Horrible Histories            Evil Roman Emperors (Bad)   \n",
       "4996               Kinks                    Oklahoma U. S. A.   \n",
       "4997               Drake                          Side Pieces   \n",
       "4998       Nat King Cole                               Madrid   \n",
       "4999        Janis Joplin  Kozmic Blues ( In Album Woodstock )   \n",
       "\n",
       "                                                   text  \n",
       "4995  lead 1:  \\r the famous roman empire,  \\r   \\r ...  \n",
       "4996  all life we work but work is bore,  \\r if life...  \n",
       "4997  [drake]  \\r side pieces  \\r i know that you're...  \n",
       "4998  madrid, madrid  \\r where is my love  \\r why di...  \n",
       "4999  time keeps movin' on,  \\r friends, they turn a...  "
      ]
     },
     "execution_count": 92,
     "metadata": {},
     "output_type": "execute_result"
    }
   ],
   "source": [
    "df.tail(5)"
   ]
  },
  {
   "cell_type": "code",
   "execution_count": 93,
   "id": "c57de662-e5cb-4182-b8cf-17f356f20eab",
   "metadata": {},
   "outputs": [],
   "source": [
    "import nltk\n",
    "from nltk.stem import PorterStemmer"
   ]
  },
  {
   "cell_type": "code",
   "execution_count": 94,
   "id": "c7f5b2f4-5da2-46e4-a3f8-3778c3f7cff8",
   "metadata": {},
   "outputs": [],
   "source": [
    "stemmer = PorterStemmer()"
   ]
  },
  {
   "cell_type": "code",
   "execution_count": 95,
   "id": "9b47a17e-21b6-478e-87fd-6c73586fce15",
   "metadata": {},
   "outputs": [],
   "source": [
    "def token(txt):\n",
    "    token = nltk.word_tokenize(txt)\n",
    "    stemmer = PorterStemmer()\n",
    "    a = [stemmer.stem(w) for w in token]\n",
    "    return \" \".join(a)"
   ]
  },
  {
   "cell_type": "code",
   "execution_count": 96,
   "id": "3d34c143-dabc-4194-99ba-6977c8101df9",
   "metadata": {},
   "outputs": [
    {
     "data": {
      "text/plain": [
       "'you are beauti , beauti'"
      ]
     },
     "execution_count": 96,
     "metadata": {},
     "output_type": "execute_result"
    }
   ],
   "source": [
    "token(\"you are beautiful, beauty\")"
   ]
  },
  {
   "cell_type": "code",
   "execution_count": 97,
   "id": "cecf9219-cb80-4be3-a6d1-29baecc9aaaf",
   "metadata": {},
   "outputs": [
    {
     "data": {
      "text/plain": [
       "0       i see reflect in the water autumn colour , sum...\n",
       "1       when the earth wa young and the air wa sweet a...\n",
       "2       you tell us how you 'll make it to the top , b...\n",
       "3       the sky abov is fill with star the road is lon...\n",
       "4       i cherish the night of your marathon kiss , ch...\n",
       "                              ...                        \n",
       "4995    lead 1 : the famou roman empir , lead 2 : wa t...\n",
       "4996    all life we work but work is bore , if life 's...\n",
       "4997    [ drake ] side piec i know that you 're watch ...\n",
       "4998    madrid , madrid where is my love whi did you l...\n",
       "4999    time keep movin ' on , friend , they turn away...\n",
       "Name: text, Length: 5000, dtype: object"
      ]
     },
     "execution_count": 97,
     "metadata": {},
     "output_type": "execute_result"
    }
   ],
   "source": [
    "df['text'].apply(lambda x: token(x))"
   ]
  },
  {
   "cell_type": "code",
   "execution_count": 98,
   "id": "04a8053f-ff9e-4a62-ae7c-0dfedab283fa",
   "metadata": {},
   "outputs": [],
   "source": [
    "from sklearn.feature_extraction.text import TfidfVectorizer\n",
    "from sklearn.metrics.pairwise import cosine_similarity"
   ]
  },
  {
   "cell_type": "code",
   "execution_count": 99,
   "id": "3fc23741-58eb-446d-abc8-69783e76c967",
   "metadata": {},
   "outputs": [],
   "source": [
    "tfid = TfidfVectorizer(analyzer='word',stop_words='english')"
   ]
  },
  {
   "cell_type": "code",
   "execution_count": 100,
   "id": "b2e4e9a9-1d39-4d8a-ad2f-a539c4340938",
   "metadata": {},
   "outputs": [],
   "source": [
    "matrix = tfid.fit_transform(df['text'])"
   ]
  },
  {
   "cell_type": "code",
   "execution_count": 108,
   "id": "362caabf-f124-4ff1-a630-70aa9b5b44b5",
   "metadata": {},
   "outputs": [],
   "source": [
    "similer = cosine_similarity(matrix)"
   ]
  },
  {
   "cell_type": "code",
   "execution_count": 109,
   "id": "5632d06b-ed7e-4530-87d2-150c48190851",
   "metadata": {},
   "outputs": [
    {
     "data": {
      "text/plain": [
       "array([1.        , 0.02187924, 0.01106958, ..., 0.00917907, 0.02123221,\n",
       "       0.01913386], shape=(5000,))"
      ]
     },
     "execution_count": 109,
     "metadata": {},
     "output_type": "execute_result"
    }
   ],
   "source": [
    "similer[0]"
   ]
  },
  {
   "cell_type": "code",
   "execution_count": 105,
   "id": "da1c3417-02b9-4c06-9a2e-9d16809edeeb",
   "metadata": {},
   "outputs": [
    {
     "data": {
      "text/plain": [
       "np.int64(4998)"
      ]
     },
     "execution_count": 105,
     "metadata": {},
     "output_type": "execute_result"
    }
   ],
   "source": [
    "df[df['song']=='Madrid'].index[0]"
   ]
  },
  {
   "cell_type": "markdown",
   "id": "a5a2ee3e-d99f-4270-b469-8f9508c543df",
   "metadata": {},
   "source": [
    "Recommender Function"
   ]
  },
  {
   "cell_type": "code",
   "execution_count": 113,
   "id": "4c7a6ae4-ac32-4672-babf-2ce22630c8cc",
   "metadata": {},
   "outputs": [],
   "source": [
    "def recommender(song_name):\n",
    "    idx = df[df['song']==song_name].index[0]\n",
    "    distance = sorted(list(enumerate(similer[idx])), reverse=True, key = lambda x:x[1])\n",
    "    song = []\n",
    "    for s_id in distance[1:21]:\n",
    "        song.append(df.iloc[s_id[0]].song)\n",
    "    return song"
   ]
  },
  {
   "cell_type": "code",
   "execution_count": 114,
   "id": "8428d9b2-6ab9-4067-a2e8-a42747201071",
   "metadata": {},
   "outputs": [
    {
     "data": {
      "text/plain": [
       "['Tell Me',\n",
       " \"Just Can't Say Goodbye\",\n",
       " \"Goodbye's\",\n",
       " \"I Just Can't Let You Say Goodbye\",\n",
       " 'You Belong To My Heart',\n",
       " 'Long, Long Way To Go',\n",
       " 'Till They Take My Heart Away',\n",
       " 'Desiree',\n",
       " 'Olive Me',\n",
       " 'Evil',\n",
       " 'Why When How',\n",
       " 'Open Door',\n",
       " \"It's Never Easy To Say Goodbye\",\n",
       " 'Goodbye Baby, Hello Friend',\n",
       " 'Black And Blue',\n",
       " 'Did I Say That?',\n",
       " 'Did You Know',\n",
       " 'Anyone Who Had A Heart',\n",
       " 'Hello, I Am Your Heart',\n",
       " 'Why Did You Do It Just Tonight']"
      ]
     },
     "execution_count": 114,
     "metadata": {},
     "output_type": "execute_result"
    }
   ],
   "source": [
    "recommender(\"Madrid\")"
   ]
  },
  {
   "cell_type": "code",
   "execution_count": 115,
   "id": "be095fb0-08e8-40b0-aa56-a689d044bc8c",
   "metadata": {},
   "outputs": [],
   "source": [
    "import pickle"
   ]
  },
  {
   "cell_type": "code",
   "execution_count": 116,
   "id": "a540dc8e-bfb3-4c7d-bdc2-b3b89df5ab86",
   "metadata": {},
   "outputs": [],
   "source": [
    "pickle.dump(similer, open(\"similarity\",\"wb\"))"
   ]
  },
  {
   "cell_type": "code",
   "execution_count": 117,
   "id": "02a115ba-5674-4d3a-aa38-3dc090394e9f",
   "metadata": {},
   "outputs": [],
   "source": [
    "pickle.dump(df, open(\"similarity\",\"wb\"))"
   ]
  },
  {
   "cell_type": "code",
   "execution_count": 4,
   "id": "4ab61732-2234-4058-bf46-e84041d3cdbc",
   "metadata": {},
   "outputs": [
    {
     "ename": "_IncompleteInputError",
     "evalue": "incomplete input (778183753.py, line 16)",
     "output_type": "error",
     "traceback": [
      "\u001b[1;36m  Cell \u001b[1;32mIn[4], line 16\u001b[1;36m\u001b[0m\n\u001b[1;33m    print(\"ไฟล์ df.pkl และ similarity.pkl ถูกสร้างขึ้นเรียบร้อยแล้ว\"\u001b[0m\n\u001b[1;37m                                                                    ^\u001b[0m\n\u001b[1;31m_IncompleteInputError\u001b[0m\u001b[1;31m:\u001b[0m incomplete input\n"
     ]
    }
   ],
   "source": [
    "music_df = pd.DataFrame({\n",
    "    'song': ['Song1', 'Song2', 'Song3', 'Song4', 'Song5'],\n",
    "    'artist': ['Artist1', 'Artist2', 'Artist3', 'Artist4', 'Artist5']\n",
    "})\n",
    "\n",
    "# สร้างเมทริกซ์ความคล้ายคลึงตัวอย่าง (คุณสามารถแทนที่ด้วยเมทริกซ์จริงจากโมเดลของคุณ)\n",
    "similarity_matrix = np.random.rand(5, 5)\n",
    "\n",
    "# บันทึก DataFrame เป็นไฟล์ pickle\n",
    "music_df.to_pickle('C:/JN/data/df.pkl')\n",
    "\n",
    "# บันทึกเมทริกซ์ความคล้ายคลึงเป็นไฟล์ pickle\n",
    "with open('C:/JN/data/similarity.pkl', 'wb') as f:\n",
    "    pickle.dump(similarity_matrix, f)\n",
    "\n",
    "print(\"ไฟล์ df.pkl และ similarity.pkl ถูกสร้างขึ้นเรียบร้อยแล้ว\""
   ]
  },
  {
   "cell_type": "code",
   "execution_count": null,
   "id": "000da7b0-2fa5-439a-aa91-e92e38e0cf7b",
   "metadata": {},
   "outputs": [],
   "source": []
  }
 ],
 "metadata": {
  "kernelspec": {
   "display_name": "Python 3 (ipykernel)",
   "language": "python",
   "name": "python3"
  },
  "language_info": {
   "codemirror_mode": {
    "name": "ipython",
    "version": 3
   },
   "file_extension": ".py",
   "mimetype": "text/x-python",
   "name": "python",
   "nbconvert_exporter": "python",
   "pygments_lexer": "ipython3",
   "version": "3.13.2"
  }
 },
 "nbformat": 4,
 "nbformat_minor": 5
}
